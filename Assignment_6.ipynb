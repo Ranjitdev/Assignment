{
 "cells": [
  {
   "cell_type": "raw",
   "id": "4be1c9fe-38d1-473f-b763-4b392bd3221d",
   "metadata": {},
   "source": [
    "1. What are escape characters, and how do you use them?\n",
    "\n",
    "\\n new line\n",
    "\\r carriege return\n",
    "\\t tab\n",
    "\\\\ literal backslash\n",
    "\\\" literal backslash\n",
    "\\xhh hex formatter"
   ]
  },
  {
   "cell_type": "raw",
   "id": "e273161f-a73b-4881-9c0a-96db02971ab0",
   "metadata": {},
   "source": [
    "2. What do the escape characters n and t stand for?\n",
    "\n",
    "new line, tab"
   ]
  },
  {
   "cell_type": "raw",
   "id": "e461cb8b-d6e8-43c4-9a32-e63c6f5876b4",
   "metadata": {},
   "source": [
    "3. What is the way to include backslash characters in a string?\n",
    "\n",
    "\\\\"
   ]
  },
  {
   "cell_type": "raw",
   "id": "ae229c65-162a-4eae-b48d-6e4965499965",
   "metadata": {},
   "source": [
    "4. The string \"Howl's Moving Castle\" is a correct value. Why isn't the single quote character in the word Howl's not escaped a problem?\n",
    "\n",
    "The string \"Howl's Moving Castle\" is indeed a correct value in many programming languages, including Python, and it does not require escaping the single quote character within the word \"Howl's.\""
   ]
  },
  {
   "cell_type": "raw",
   "id": "713be5f8-d8da-4861-9b26-3aaf78e0af63",
   "metadata": {},
   "source": [
    "5. How do you write a string of newlines if you don't want to use the n character?\n",
    "\n",
    "\"\"\"Inside this...\n",
    "\"\"\""
   ]
  },
  {
   "cell_type": "raw",
   "id": "1224f8cf-3a6d-45b3-b37a-4647dc497879",
   "metadata": {},
   "source": [
    "6. What are the values of the given expressions?\n",
    "'Hello, world!'[1]\n",
    "'Hello, world!'[0:5]\n",
    "'Hello, wordl!'[:5]\n",
    "'Hello, world!'[3:]\n",
    "\n",
    "H, Hello, Hello, lo, world!"
   ]
  },
  {
   "cell_type": "raw",
   "id": "0729a72f-b2c3-41b4-b427-38c492d0f5e7",
   "metadata": {},
   "source": [
    "7. What are the values of the following expressions?\n",
    "'Hello'.upper()\n",
    "'Hello'.upper().isupper()\n",
    "'Hello'.upper().lower()\n",
    "\n",
    "HELLO, True, hello"
   ]
  },
  {
   "cell_type": "raw",
   "id": "b0d80d61-9d29-45d8-89e1-53967b1dc7b7",
   "metadata": {
    "tags": []
   },
   "source": [
    "8. What are the values of the following expressions?\n",
    "'Remember, remember, the fifth of July.'.split()\n",
    "'-'.join('There can only one.'.split())\n",
    "\n",
    "['Remember,', 'remember,', 'the', 'fifth', 'of', 'July.']\n",
    "'There-can-only-one.'"
   ]
  },
  {
   "cell_type": "raw",
   "id": "861507d9-150b-43ae-a943-3bcc12888d5c",
   "metadata": {
    "tags": []
   },
   "source": [
    "9. What are the methods for right-justifying, left-justifying, and centering a string?\n",
    "\n",
    "rjust(), ljust(), center()"
   ]
  },
  {
   "cell_type": "raw",
   "id": "fadb16d8-edf5-4e55-a838-be6f3f50f50c",
   "metadata": {
    "tags": []
   },
   "source": [
    "10. What is the best way to remove whitespace characters from the start or end?\n",
    "\n",
    "strip()"
   ]
  }
 ],
 "metadata": {
  "kernelspec": {
   "display_name": "Python 3 (ipykernel)",
   "language": "python",
   "name": "python3"
  },
  "language_info": {
   "codemirror_mode": {
    "name": "ipython",
    "version": 3
   },
   "file_extension": ".py",
   "mimetype": "text/x-python",
   "name": "python",
   "nbconvert_exporter": "python",
   "pygments_lexer": "ipython3",
   "version": "3.11.4"
  },
  "widgets": {
   "application/vnd.jupyter.widget-state+json": {
    "state": {},
    "version_major": 2,
    "version_minor": 0
   }
  }
 },
 "nbformat": 4,
 "nbformat_minor": 5
}
