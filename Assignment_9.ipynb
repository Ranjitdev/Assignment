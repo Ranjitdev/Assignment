{
 "cells": [
  {
   "cell_type": "raw",
   "id": "51327c45-f8b3-469e-9d27-d04c51971406",
   "metadata": {},
   "source": [
    "1. To what does a relative path refer?\n",
    "\n",
    "A relative path refers to the location of a file or directory in relation to another file or directory."
   ]
  },
  {
   "cell_type": "raw",
   "id": "3bd43064-2742-4da2-89e7-0377dac58536",
   "metadata": {},
   "source": [
    "2. What does an absolute path start with your operating system?\n",
    "\n",
    "In most operating systems, an absolute path starts with the root directory of the file system. "
   ]
  },
  {
   "cell_type": "raw",
   "id": "8d3f6343-9021-431b-8680-a3db031b715d",
   "metadata": {},
   "source": [
    "3. What do the functions os.getcwd() and os.chdir() do?\n",
    "\n",
    "os.getcwd() = fetch current directory\n",
    "os.chdir() = changes directory"
   ]
  },
  {
   "cell_type": "raw",
   "id": "b26ed206-4b6c-4bb1-bbc9-bc559d5e41ec",
   "metadata": {},
   "source": [
    "4. What are the . and .. folders?\n",
    "\n",
    ". = current directory\n",
    ".. = parent directory"
   ]
  },
  {
   "cell_type": "raw",
   "id": "9f4c3d76-c033-49f3-947f-957008112d20",
   "metadata": {},
   "source": [
    "5. In C:\\bacon\\eggs\\spam.txt, which part is the dir name, and which part is the base name?\n",
    "\n",
    "dir name = C:\\bacon\\eggs\n",
    "base name = spam.txt"
   ]
  },
  {
   "cell_type": "raw",
   "id": "e20769ac-4b13-4830-9b7a-f9bf1c39f0b8",
   "metadata": {},
   "source": [
    "6. What are the three “mode” arguments that can be passed to the open() function?\n",
    "\n",
    "r, w, a"
   ]
  },
  {
   "cell_type": "raw",
   "id": "6bcb5fee-242b-4bd9-ac95-67a0e60ba813",
   "metadata": {},
   "source": [
    "7. What happens if an existing file is opened in write mode?\n",
    "\n",
    " The file will be empty after opening it in write mode, and any data that was in the file will be lost."
   ]
  },
  {
   "cell_type": "raw",
   "id": "8eb840d4-a9fd-4c48-959e-c56503b7f3c9",
   "metadata": {},
   "source": [
    "8. How do you tell the difference between read() and readlines()?\n",
    "\n",
    "read reads whole data in a string and readlines reads line by line and puts them in list"
   ]
  },
  {
   "cell_type": "raw",
   "id": "ca291370-b11a-44e4-a0f9-d612df955d03",
   "metadata": {},
   "source": [
    "9. What data structure does a shelf value resemble?\n",
    "\n",
    "the shelve module provides a way to store and manage key-value pairs, similar to a dictionary. The data structure used in a shelf value closely resembles a dictionary."
   ]
  }
 ],
 "metadata": {
  "kernelspec": {
   "display_name": "Python 3 (ipykernel)",
   "language": "python",
   "name": "python3"
  },
  "language_info": {
   "codemirror_mode": {
    "name": "ipython",
    "version": 3
   },
   "file_extension": ".py",
   "mimetype": "text/x-python",
   "name": "python",
   "nbconvert_exporter": "python",
   "pygments_lexer": "ipython3",
   "version": "3.11.4"
  },
  "widgets": {
   "application/vnd.jupyter.widget-state+json": {
    "state": {},
    "version_major": 2,
    "version_minor": 0
   }
  }
 },
 "nbformat": 4,
 "nbformat_minor": 5
}
