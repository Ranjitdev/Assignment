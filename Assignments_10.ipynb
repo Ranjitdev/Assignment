{
 "cells": [
  {
   "cell_type": "raw",
   "id": "c9e18161-08bb-46fe-b89e-ee8a59d6644a",
   "metadata": {},
   "source": [
    "1. How do you distinguish between shutil.copy() and shutil.copytree()?\n",
    "\n",
    "shutil.copy(src, dst): This function is used to copy a single file from the source (specified by src) to the destination (specified by dst).\n",
    "shutil.copytree(src, dst): This function is used to recursively copy an entire directory and its contents from the source (specified by src) to the destination (specified by dst)."
   ]
  },
  {
   "cell_type": "raw",
   "id": "952a95b4-b755-4378-bdad-c79730ca6582",
   "metadata": {},
   "source": [
    "2. What function is used to rename files??\n",
    "\n",
    "os.rename()"
   ]
  },
  {
   "cell_type": "raw",
   "id": "efcfac7c-0cd9-453a-a23f-180fa4aebe61",
   "metadata": {},
   "source": [
    "3. What is the difference between the delete functions in the send2trash and shutil modules?\n",
    "\n",
    "The send2trash module is primarily used for sending files and directories to the system's trash or recycle bin, depending on the operating system. \n",
    "shutil.rmtree() or os.remove(), the files or directories are permanently deleted without the option of being moved to the system's trash or recycle bin."
   ]
  },
  {
   "cell_type": "raw",
   "id": "4713989c-df7e-4c6b-bb88-78e14544706a",
   "metadata": {},
   "source": [
    "4.ZipFile objects have a close() method just like File objects’ close() method. What ZipFile method is\n",
    "equivalent to File objects’ open() method?\n",
    "\n",
    "The equivalent method in the zipfile module for opening a ZIP file is the zipfile.ZipFile()"
   ]
  },
  {
   "cell_type": "raw",
   "id": "b34eeafc-6556-444a-8b1f-bcbb416eff24",
   "metadata": {},
   "source": [
    "5. Create a programme that searches a folder tree for files with a certain file extension (such as .pdf\n",
    "or .jpg). Copy these files from whatever location they are in to a new folder.\n",
    "\n",
    "import os\n",
    "import shutil\n",
    "\n",
    "def copy_files_with_extension(source_folder, destination_folder, file_extension):\n",
    "    for foldername, subfolders, filenames in os.walk(source_folder):\n",
    "        for filename in filenames:\n",
    "            if filename.endswith(file_extension):\n",
    "                source_path = os.path.join(foldername, filename)\n",
    "                destination_path = os.path.join(destination_folder, filename)\n",
    "\n",
    "                # Copy the file to the destination folder\n",
    "                shutil.copy(source_path, destination_path)\n",
    "\n",
    "if __name__ == \"__main__\":\n",
    "    source_folder = \"/path/to/source/folder\"  # Specify the source folder\n",
    "    destination_folder = \"/path/to/destination/folder\"  # Specify the destination folder\n",
    "    file_extension = \".pdf\"  # Specify the file extension you want to search for\n",
    "\n",
    "    if not os.path.exists(destination_folder):\n",
    "        os.makedirs(destination_folder)\n",
    "\n",
    "    copy_files_with_extension(source_folder, destination_folder, file_extension)\n",
    "    print(f\"Files with the '{file_extension}' extension have been copied to {destination_folder}.\")\n"
   ]
  },
  {
   "cell_type": "code",
   "execution_count": null,
   "id": "50eaf076-2f4c-43a9-ba94-1ab607ef6a63",
   "metadata": {},
   "outputs": [],
   "source": []
  }
 ],
 "metadata": {
  "kernelspec": {
   "display_name": "Python 3 (ipykernel)",
   "language": "python",
   "name": "python3"
  },
  "language_info": {
   "codemirror_mode": {
    "name": "ipython",
    "version": 3
   },
   "file_extension": ".py",
   "mimetype": "text/x-python",
   "name": "python",
   "nbconvert_exporter": "python",
   "pygments_lexer": "ipython3",
   "version": "3.11.4"
  },
  "widgets": {
   "application/vnd.jupyter.widget-state+json": {
    "state": {},
    "version_major": 2,
    "version_minor": 0
   }
  }
 },
 "nbformat": 4,
 "nbformat_minor": 5
}
