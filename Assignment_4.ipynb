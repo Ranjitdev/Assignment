{
 "cells": [
  {
   "cell_type": "raw",
   "id": "13de8f60",
   "metadata": {},
   "source": [
    "1. What exactly is []?\n",
    "\n",
    "it defines a list"
   ]
  },
  {
   "cell_type": "raw",
   "id": "13ea1126",
   "metadata": {},
   "source": [
    "2. In a list of values stored in a variable called spam, how would you assign the value 'hello' as the\n",
    "third value? (Assume [2, 4, 6, 8, 10] are in spam.)\n",
    "\n",
    "spam[2] = 'hello'"
   ]
  },
  {
   "cell_type": "markdown",
   "id": "03444ff6",
   "metadata": {},
   "source": [
    "##### Lets pretend the spam includes the list ['a', 'b', 'c', 'd'] for the next three queries."
   ]
  },
  {
   "cell_type": "raw",
   "id": "26c1cf01",
   "metadata": {},
   "source": [
    "3. What is the value of spam[int(int('3' * 2)/11)]?\n",
    "\n",
    "d"
   ]
  },
  {
   "cell_type": "raw",
   "id": "3f58c608",
   "metadata": {},
   "source": [
    "4. What is the value of spam[-1]?\n",
    "\n",
    "d"
   ]
  },
  {
   "cell_type": "raw",
   "id": "13e117ec",
   "metadata": {},
   "source": [
    "5. What is the value of spam[:2]?\n",
    "\n",
    "['a', 'b', 'c']"
   ]
  },
  {
   "cell_type": "markdown",
   "id": "4df69fc8",
   "metadata": {},
   "source": [
    "##### Lets pretend bacon has the list [3.14, 'cat', 11, 'cat', True] for the next three questions."
   ]
  },
  {
   "cell_type": "raw",
   "id": "5792bedf",
   "metadata": {},
   "source": [
    "6. What is the value of bacon.index('cat')?\n",
    "\n",
    "1"
   ]
  },
  {
   "cell_type": "raw",
   "id": "3d6d8cae",
   "metadata": {},
   "source": [
    "7. How does bacon.append(99) change the look of the list value in bacon?\n",
    "\n",
    "[3.14, 'cat', 11, 'cat', True, 99]"
   ]
  },
  {
   "cell_type": "raw",
   "id": "4c7b8d5f",
   "metadata": {},
   "source": [
    "8. How does bacon.remove('cat') change the look of the list in bacon?\n",
    "\n",
    "[3.14, 11, 'cat', True] "
   ]
  },
  {
   "cell_type": "raw",
   "id": "14d9e5f9",
   "metadata": {},
   "source": [
    "9. What are the list concatenation and list replication operators?\n",
    "\n",
    "+ is list concatenation operator\n",
    "* is list replication operator"
   ]
  },
  {
   "cell_type": "raw",
   "id": "5a46e6c6",
   "metadata": {},
   "source": [
    "10. What is difference between the list methods append() and insert()?\n",
    "\n",
    "The append() method is used to add an element to the end of a list.\n",
    "The insert() method is used to add an element at a specific index in the list."
   ]
  },
  {
   "cell_type": "raw",
   "id": "e9c7c169",
   "metadata": {},
   "source": [
    "11. What are the two methods for removing items from a list?\n",
    "\n",
    "remove(), pop()"
   ]
  },
  {
   "cell_type": "raw",
   "id": "468760a4",
   "metadata": {},
   "source": [
    "12. Describe how list values and string values are identical.\n",
    "\n",
    "they are sequences, they can be indexed, they can be sliced"
   ]
  },
  {
   "cell_type": "raw",
   "id": "0413a303",
   "metadata": {},
   "source": [
    "13. Whats the difference between tuples and lists?\n",
    "\n",
    "list is mutable tuple is not"
   ]
  },
  {
   "cell_type": "raw",
   "id": "f0cc0b9c",
   "metadata": {},
   "source": [
    "14. How do you type a tuple value that only contains the integer 42?\n",
    "\n",
    "tup = (42,)"
   ]
  },
  {
   "cell_type": "raw",
   "id": "79aa48b6",
   "metadata": {},
   "source": [
    "15. How do you get a list values tuple form? How do you get a tuple values list form?\n",
    "\n",
    "list(tuple_values)\n",
    "tuple(list_values)"
   ]
  },
  {
   "cell_type": "raw",
   "id": "87a6c232",
   "metadata": {},
   "source": [
    "16. Variables that \"contain\" list values are not necessarily lists themselves. Instead, what do they\n",
    "contain?\n",
    "\n",
    "When you assign a list to a variable, the variable doesn't store the entire list directly. Instead, it stores a reference (or memory address) that points to the location in memory where the list is stored. "
   ]
  },
  {
   "cell_type": "raw",
   "id": "478cc21f",
   "metadata": {},
   "source": [
    "17. How do you distinguish between copy.copy() and copy.deepcopy()?\n",
    "\n",
    "The copy.copy() function creates a shallow copy of an object. \n",
    "The copy.deepcopy() function, on the other hand, creates a deep copy of an object. A deep copy creates entirely new copies of the object and all nested objects, recursively. "
   ]
  }
 ],
 "metadata": {
  "kernelspec": {
   "display_name": "Python 3 (ipykernel)",
   "language": "python",
   "name": "python3"
  },
  "language_info": {
   "codemirror_mode": {
    "name": "ipython",
    "version": 3
   },
   "file_extension": ".py",
   "mimetype": "text/x-python",
   "name": "python",
   "nbconvert_exporter": "python",
   "pygments_lexer": "ipython3",
   "version": "3.11.3"
  }
 },
 "nbformat": 4,
 "nbformat_minor": 5
}
