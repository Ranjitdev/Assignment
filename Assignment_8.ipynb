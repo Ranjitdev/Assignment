{
 "cells": [
  {
   "cell_type": "raw",
   "id": "b6734e01-f650-4ffc-aa33-181d65e61047",
   "metadata": {},
   "source": [
    "1. Is the Python Standard Library included with PyInputPlus?\n",
    "\n",
    "No"
   ]
  },
  {
   "cell_type": "raw",
   "id": "d35b94fa-71c5-4187-8b59-d305fc627e00",
   "metadata": {},
   "source": [
    "2. Why is PyInputPlus commonly imported with import pyinputplus as pypi?\n",
    "\n",
    "it is more convenient to use"
   ]
  },
  {
   "cell_type": "raw",
   "id": "8b7ab749-dc6d-46a6-913e-0db71099f270",
   "metadata": {},
   "source": [
    "3. How do you distinguish between inputInt() and inputFloat()?\n",
    "\n",
    "Int takes integer input where Float takes Float value"
   ]
  },
  {
   "cell_type": "raw",
   "id": "99e9c82a-89ff-4662-9474-1646ef9e039d",
   "metadata": {},
   "source": [
    "4. Using PyInputPlus, how do you ensure that the user enters a whole number between 0 and 99?\n",
    "\n",
    "pyip.inputInt(prompt='enter a number', min=0, max=99)"
   ]
  },
  {
   "cell_type": "raw",
   "id": "7bde7980-8cf0-48d0-ae04-4d93bbd5ec37",
   "metadata": {},
   "source": [
    "5. What is transferred to the keyword arguments allowRegexes and blockRegexes?\n",
    "\n",
    "In PyInputPlus, the allowRegexes and blockRegexes keyword arguments are used to specify regular expressions (regex patterns) that define which input values are allowed or blocked, respectively."
   ]
  },
  {
   "cell_type": "raw",
   "id": "12c6fd64-03ef-4962-90e2-8022104d5ea9",
   "metadata": {},
   "source": [
    "6. If a blank input is entered three times, what does inputStr(limit=3) do?\n",
    "\n",
    "it will raise pyinputplus.RetryLimitException"
   ]
  },
  {
   "cell_type": "raw",
   "id": "cbbfd53f-f96b-48b5-a9ce-9330942b2b34",
   "metadata": {},
   "source": [
    "7. If blank input is entered three times, what does inputStr(limit=3, default='hello') do?\n",
    "\n",
    "it will return the default value 'hello' after the third attempt."
   ]
  }
 ],
 "metadata": {
  "kernelspec": {
   "display_name": "Python 3 (ipykernel)",
   "language": "python",
   "name": "python3"
  },
  "language_info": {
   "codemirror_mode": {
    "name": "ipython",
    "version": 3
   },
   "file_extension": ".py",
   "mimetype": "text/x-python",
   "name": "python",
   "nbconvert_exporter": "python",
   "pygments_lexer": "ipython3",
   "version": "3.11.4"
  },
  "widgets": {
   "application/vnd.jupyter.widget-state+json": {
    "state": {},
    "version_major": 2,
    "version_minor": 0
   }
  }
 },
 "nbformat": 4,
 "nbformat_minor": 5
}
