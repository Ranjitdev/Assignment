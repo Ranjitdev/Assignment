{
 "cells": [
  {
   "cell_type": "raw",
   "id": "1c4cd65b",
   "metadata": {},
   "source": [
    "1.What are the two values of the Boolean data type? How do you write them?\n",
    "\n",
    "True and False\n",
    "True if condition satisfies\n",
    "False if condition fails"
   ]
  },
  {
   "cell_type": "raw",
   "id": "5455a161",
   "metadata": {},
   "source": [
    "2. What are the three different types of Boolean operators?\n",
    "\n",
    "and, or, not"
   ]
  },
  {
   "cell_type": "raw",
   "id": "d694405f",
   "metadata": {},
   "source": [
    "3. Make a list of each Boolean operator&#39;s truth tables (i.e. every possible combination of Boolean\n",
    "values for the operator and what it evaluate ).\n",
    "\n",
    "1. **AND Operator (`and`)**:\n",
    "\n",
    "| Operand 1 | Operand 2 | Result |\n",
    "| --------- | --------- | ------ |\n",
    "| False     | False     | False  |\n",
    "| False     | True      | False  |\n",
    "| True      | False     | False  |\n",
    "| True      | True      | True   |\n",
    "\n",
    "2. **OR Operator (`or`)**:\n",
    "\n",
    "| Operand 1 | Operand 2 | Result |\n",
    "| --------- | --------- | ------ |\n",
    "| False     | False     | False  |\n",
    "| False     | True      | True   |\n",
    "| True      | False     | True   |\n",
    "| True      | True      | True   |\n",
    "\n",
    "3. **NOT Operator (`not`)**:\n",
    "\n",
    "| Operand | Result |\n",
    "| ------- | ------ |\n",
    "| False   | True   |\n",
    "| True    | False  |"
   ]
  },
  {
   "cell_type": "raw",
   "id": "cef1c5dd",
   "metadata": {},
   "source": [
    "4. What are the values of the following expressions?\n",
    "(5 > 4) and (3 == 5)\n",
    "not (5 > 4)\n",
    "(5 > 4) or (3 == 5)\n",
    "not ((5 > 4) or (3 == 5))\n",
    "(True and True) and (True == False)\n",
    "(not False) or (not True)\n",
    "\n",
    "False\n",
    "False\n",
    "True\n",
    "False\n",
    "False\n",
    "True"
   ]
  },
  {
   "cell_type": "raw",
   "id": "3c3278dd",
   "metadata": {},
   "source": [
    "5. What are the six comparison operators?\n",
    "\n",
    "==\n",
    "=>\n",
    "=<\n",
    "!=\n",
    "<\n",
    ">"
   ]
  },
  {
   "cell_type": "raw",
   "id": "8305afc8",
   "metadata": {},
   "source": [
    "6. How do you tell the difference between the equal to and assignment operators?Describe a\n",
    "condition and when you would use one.\n",
    "\n",
    "assignment operator =\n",
    "use, x = 10\n",
    "equal to operator ==\n",
    "use, 5 == 5"
   ]
  },
  {
   "cell_type": "raw",
   "id": "e623a6ca",
   "metadata": {},
   "source": [
    "7. Identify the three blocks in this code:\n",
    "spam = 0\n",
    "if spam == 10:\n",
    "    print(&#39;eggs&#39;)\n",
    "if spam &gt; 5:\n",
    "    print(&#39;bacon&#39;)\n",
    "else:\n",
    "    print(&#39;ham&#39;)\n",
    "    print(&#39;spam&#39;)\n",
    "    print(&#39;spam&#39;)\n",
    "      \n",
    "if, if, else"
   ]
  },
  {
   "cell_type": "raw",
   "id": "f97cfeba",
   "metadata": {},
   "source": [
    "8. Write code that prints Hello if 1 is stored in spam, prints Howdy if 2 is stored in spam, and prints\n",
    "Greetings! if anything else is stored in spam.\n",
    "\n",
    "spam = 1\n",
    "if spam == 1:\n",
    "    print('hello')\n",
    "elif spam == 2:\n",
    "    print('howdy')\n",
    "else:\n",
    "    print('Greetings!')"
   ]
  },
  {
   "cell_type": "raw",
   "id": "2c2beb85",
   "metadata": {},
   "source": [
    "9.If your programme is stuck in an endless loop, what keys you’ll press?\n",
    "\n",
    "ctrl+c"
   ]
  },
  {
   "cell_type": "raw",
   "id": "9b00ad6c",
   "metadata": {},
   "source": [
    "10. How can you tell the difference between break and continue?\n",
    "\n",
    "The break statement is used to exit a loop prematurely. \n",
    "The continue statement is used to skip the rest of the current iteration of a loop and move to the next iteration. "
   ]
  },
  {
   "cell_type": "raw",
   "id": "3a1e29d0",
   "metadata": {},
   "source": [
    "11. In a for loop, what is the difference between range(10), range(0, 10), and range(0, 10, 1)?\n",
    "\n",
    "they are equivalent"
   ]
  },
  {
   "cell_type": "raw",
   "id": "f99e14a3",
   "metadata": {},
   "source": [
    "12. Write a short program that prints the numbers 1 to 10 using a for loop. Then write an equivalent\n",
    "program that prints the numbers 1 to 10 using a while loop.\n",
    "\n",
    "for i in range(1, 11):\n",
    "    print(i)\n",
    "\n",
    "i=1\n",
    "while i<=10:\n",
    "    print(i)\n",
    "    i += 1"
   ]
  },
  {
   "cell_type": "raw",
   "id": "19e8e976",
   "metadata": {},
   "source": [
    "13. If you had a function named bacon() inside a module named spam, how would you call it after\n",
    "importing spam?\n",
    "\n",
    "import spam\n",
    "spam.bacon()"
   ]
  }
 ],
 "metadata": {
  "kernelspec": {
   "display_name": "Python 3 (ipykernel)",
   "language": "python",
   "name": "python3"
  },
  "language_info": {
   "codemirror_mode": {
    "name": "ipython",
    "version": 3
   },
   "file_extension": ".py",
   "mimetype": "text/x-python",
   "name": "python",
   "nbconvert_exporter": "python",
   "pygments_lexer": "ipython3",
   "version": "3.11.3"
  }
 },
 "nbformat": 4,
 "nbformat_minor": 5
}
