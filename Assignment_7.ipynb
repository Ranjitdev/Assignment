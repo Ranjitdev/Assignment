{
 "cells": [
  {
   "cell_type": "raw",
   "id": "d0f84853-6dd3-40a8-a456-f9cda5c2eda4",
   "metadata": {},
   "source": [
    "1. What is the name of the feature responsible for generating Regex objects?\n",
    "\n",
    "re"
   ]
  },
  {
   "cell_type": "raw",
   "id": "eab84a22-5144-4b49-b849-8b2c1995c82a",
   "metadata": {},
   "source": [
    "2. Why do raw strings often appear in Regex objects?\n",
    "\n",
    "To avoid \\t or \\n or \\r or any special characters which can change our actual expression meaning"
   ]
  },
  {
   "cell_type": "raw",
   "id": "3b534788-c4ad-4af9-9960-809deab10b6e",
   "metadata": {},
   "source": [
    "3. What is the return value of the search() method?\n",
    "\n",
    "if found it returns output in group else it returns none"
   ]
  },
  {
   "cell_type": "raw",
   "id": "0b7a72e6-1d56-4ef5-b5fd-35909238a339",
   "metadata": {},
   "source": [
    "4. From a Match item, how do you get the actual strings that match the pattern?\n",
    "\n",
    "using group we can extract the actual text"
   ]
  },
  {
   "cell_type": "raw",
   "id": "d6138678-248e-4728-bdf5-032f331c1e8d",
   "metadata": {},
   "source": [
    "5. In the regex which created from the r'(\\d\\d\\d)-(\\d\\d\\d-\\d\\d\\d\\d)', what does group zero cover?\n",
    "Group 2? Group 1?\n",
    "\n",
    "group 0 - Entire match, \n",
    "group 1 - (\\d\\d\\d)\n",
    "group 2 - (\\d\\d\\d-\\d\\d\\d\\d)"
   ]
  },
  {
   "cell_type": "raw",
   "id": "f561df1c-f72e-4f1d-bd81-2c05b4a6b3a9",
   "metadata": {},
   "source": [
    "6. In standard expression syntax, parentheses and intervals have distinct meanings. How can you tell\n",
    "a regex that you want it to fit real parentheses and periods?\n",
    "\n",
    "using \\ like \\(\\)"
   ]
  },
  {
   "cell_type": "raw",
   "id": "95248d1d-b2ad-4540-9dc8-b18e9bb64196",
   "metadata": {},
   "source": [
    "7. The findall() method returns a string list or a list of string tuples. What causes it to return one of\n",
    "the two options?\n",
    "\n",
    "If regular expression pattern contains one or more capturing groups (parentheses), findall() will return a list of tuples"
   ]
  },
  {
   "cell_type": "raw",
   "id": "bd09ee31-7651-47d4-b2c1-34ddad4b073a",
   "metadata": {},
   "source": [
    "8. In standard expressions, what does the | character mean?\n",
    "\n",
    "it means or"
   ]
  },
  {
   "cell_type": "raw",
   "id": "5f0b8c14-ddcd-43f4-b9d2-ee332bcb8a5d",
   "metadata": {},
   "source": [
    "9. In regular expressions, what does the character stand for?\n",
    "\n",
    "the character . (a period or dot) is known as a metacharacter"
   ]
  },
  {
   "cell_type": "raw",
   "id": "53f35fac-d88c-4eaa-bfa1-9233618dc76a",
   "metadata": {},
   "source": [
    "10.In regular expressions, what is the difference between the + and * characters?\n",
    "\n",
    "+ means one or more occurance and * means zero or more occurance"
   ]
  },
  {
   "cell_type": "raw",
   "id": "d66feebb-33da-45a3-83aa-c76c13949c6c",
   "metadata": {},
   "source": [
    "11. What is the difference between {4} and {4,5} in regular expression?\n",
    "\n",
    "Exact quantity and range of quatity"
   ]
  },
  {
   "cell_type": "raw",
   "id": "be4107df-063e-4a32-a9ee-43d251714a12",
   "metadata": {},
   "source": [
    "12. What do you mean by the \\d, \\w, and \\s shorthand character classes signify in regular\n",
    "expressions?\n",
    "\n",
    "\\d - digit character\n",
    "\\w - word cahracter\n",
    "\\s - white space character"
   ]
  },
  {
   "cell_type": "raw",
   "id": "0f5b29e8-88da-41b7-8a53-8c22999283e8",
   "metadata": {},
   "source": [
    "13. What do means by \\D, \\W, and \\S shorthand character classes signify in regular expressions?\n",
    "\n",
    "\\D - Non digit\n",
    "\\W - Non word\n",
    "\\S - Non white space"
   ]
  },
  {
   "cell_type": "raw",
   "id": "51cd7f22-6d6e-4fb5-84fb-5e13419f928e",
   "metadata": {},
   "source": [
    "14. What is the difference between .*? and .*?\n",
    "\n",
    ".* is a greedy match and will try to match as much text as possible while still allowing the overall regex pattern to match.\n",
    ".*? is a lazy or non-greedy match, and it will try to match as few characters as possible while still allowing the overall regex pattern to match."
   ]
  },
  {
   "cell_type": "raw",
   "id": "b5eba9ff-55e7-4567-b238-a3629d317d89",
   "metadata": {},
   "source": [
    "15. What is the syntax for matching both numbers and lowercase letters with a character class?\n",
    "\n",
    "[0-9a-z]"
   ]
  },
  {
   "cell_type": "raw",
   "id": "f7850214-f451-4136-a8c4-ffc3071d5f72",
   "metadata": {},
   "source": [
    "16. What is the procedure for making a normal expression in regax case insensitive?\n",
    "\n",
    "(?i)"
   ]
  },
  {
   "cell_type": "raw",
   "id": "c2b752f4-2069-449c-b64e-20264e107634",
   "metadata": {},
   "source": [
    "17. What does the . character normally match? What does it match if re.DOTALL is passed as 2nd\n",
    "argument in re.compile()?\n",
    "\n",
    ". (dot) character normally matches any character except for a newline character\n",
    "However, when you pass re.DOTALL (or re.S) as the second argument in re.compile(), it changes the behavior of the . character. In this mode, the . character matches any character, including newline characters. Here's what it means:"
   ]
  },
  {
   "cell_type": "raw",
   "id": "099ceede-83bf-4e50-8071-06fa9dda3529",
   "metadata": {},
   "source": [
    "18. If numReg = re.compile(r'\\d+'), what will numRegex.sub('X', '11 drummers, 10 pipers, five rings, 4 hen') return?\n",
    "                           \n",
    "'X drummers, X pipers, five rings, X hens'"
   ]
  },
  {
   "cell_type": "raw",
   "id": "643251bc-abb4-4a69-b63d-0f690d5a4487",
   "metadata": {},
   "source": [
    "19. What does passing re.VERBOSE as the 2nd argument to re.compile() allow to do?\n",
    "\n",
    "Passing re.VERBOSE as the second argument to re.compile() in Python allows you to create regular expressions with whitespace and comments for improved readability and maintainability. It makes your regular expressions more human-friendly by allowing you to add comments and spaces to make them easier to understand."
   ]
  },
  {
   "cell_type": "raw",
   "id": "8a5a1af4-22b6-4c0b-b8b9-ea70a08c883c",
   "metadata": {},
   "source": [
    "20. How would you write a regex that match a number with comma for every three digits? It must\n",
    "match the given following:\n",
    "'42'\n",
    "'1,234'\n",
    "'6368745'\n",
    "but not the following:\n",
    "'12,34,567' (which has only two digits between the commas)\n",
    "'1234' (which lacks commas)\n",
    "\n",
    "^\\d{1,3}(,\\d{3})*$"
   ]
  },
  {
   "cell_type": "raw",
   "id": "5ffbd204-034e-4c04-9ebc-77ed16d2018c",
   "metadata": {},
   "source": [
    "21. How would you write a regex that matches the full name of someone whose last name is\n",
    "Watanabe? You can assume that the first name that comes before it will always be one word that\n",
    "begins with a capital letter. The regex must match the following:\n",
    "'Haruto Watanabe'\n",
    "'Alice Watanabe'\n",
    "'RoboCop Watanabe'\n",
    "but not the following:\n",
    "'haruto Watanabe' (where the first name is not capitalized)\n",
    "'Mr. Watanabe' (where the preceding word has a nonletter character)\n",
    "'Watanabe' (which has no first name)\n",
    "'Haruto watanabe' (where Watanabe is not capitalized)\n",
    "\n",
    "^[A-Z][a-zA-Z]*\\sWatanabe$"
   ]
  },
  {
   "cell_type": "raw",
   "id": "af293760-4bda-47a7-8488-42e97717e7ce",
   "metadata": {},
   "source": [
    "22. How would you write a regex that matches a sentence where the first word is either Alice, Bob,\n",
    "or Carol; the second word is either eats, pets, or throws; the third word is apples, cats, or baseballs;\n",
    "and the sentence ends with a period? This regex should be case-insensitive. It must match the\n",
    "following:\n",
    "'Alice eats apples.'\n",
    "'Bob pets cats.'\n",
    "'Carol throws baseballs.'\n",
    "'Alice throws Apples.'\n",
    "'BOB EATS CATS.'\n",
    "but not the following:\n",
    "'RoboCop eats apples.'\n",
    "'ALICE THROWS FOOTBALLS.'\n",
    "'Carol eats 7 cats.'\n",
    "\n",
    "^(?i)(Alice|Bob|Carol)\\s(?:eats|pets|throws)\\s(?:apples|cats|baseballs)\\.$"
   ]
  }
 ],
 "metadata": {
  "kernelspec": {
   "display_name": "Python 3 (ipykernel)",
   "language": "python",
   "name": "python3"
  },
  "language_info": {
   "codemirror_mode": {
    "name": "ipython",
    "version": 3
   },
   "file_extension": ".py",
   "mimetype": "text/x-python",
   "name": "python",
   "nbconvert_exporter": "python",
   "pygments_lexer": "ipython3",
   "version": "3.11.4"
  },
  "widgets": {
   "application/vnd.jupyter.widget-state+json": {
    "state": {},
    "version_major": 2,
    "version_minor": 0
   }
  }
 },
 "nbformat": 4,
 "nbformat_minor": 5
}
