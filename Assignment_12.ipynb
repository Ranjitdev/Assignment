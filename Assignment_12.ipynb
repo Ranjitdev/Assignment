{
 "cells": [
  {
   "cell_type": "raw",
   "id": "42760a4c-6b1c-4c06-9961-668ab1536889",
   "metadata": {},
   "source": [
    "1. In what modes should the PdfFileReader() and PdfFileWriter() File objects will be opened?\n",
    "\n",
    "rb = read byte"
   ]
  },
  {
   "cell_type": "raw",
   "id": "175862ff-2bcd-4d93-9bce-c15bb913a196",
   "metadata": {},
   "source": [
    "2. From a PdfFileReader object, how do you get a Page object for page 5?\n",
    "\n",
    "import PyPDF2\n",
    "\n",
    "# Open the PDF file in read-binary ('rb') mode\n",
    "pdf_file = open('example.pdf', 'rb')\n",
    "pdf_reader = PyPDF2.PdfFileReader(pdf_file)\n",
    "\n",
    "# Get a Page object for page 5 (pages are 0-based)\n",
    "page_number = 4  # Page 5 is at index 4\n",
    "page = pdf_reader.getPage(page_number)"
   ]
  },
  {
   "cell_type": "raw",
   "id": "6aeb91fd-8cf3-48be-93ff-02d16bfca10a",
   "metadata": {},
   "source": [
    "3. What PdfFileReader variable stores the number of pages in the PDF document?\n",
    "\n",
    ".numpages"
   ]
  },
  {
   "cell_type": "raw",
   "id": "565085cc-4654-4423-977b-8fef309ba7eb",
   "metadata": {},
   "source": [
    "4. If a PdfFileReader object’s PDF is encrypted with the password swordfish, what must you do\n",
    "before you can obtain Page objects from it?\n",
    "\n",
    "pdf_reader.decrypt('password')"
   ]
  },
  {
   "cell_type": "raw",
   "id": "3bc75363-ad0b-4419-a8e3-bc2c60cf8226",
   "metadata": {},
   "source": [
    "5. What methods do you use to rotate a page?\n",
    "\n",
    "page = pdf_reader.getPage(0)\n",
    "page.rotateClockwise(90)"
   ]
  },
  {
   "cell_type": "raw",
   "id": "360cf476-938a-48a2-b9f3-ca5e14bc7c63",
   "metadata": {},
   "source": [
    "6. What is the difference between a Run object and a Paragraph object?\n",
    "\n",
    "\n",
    "In the context of word processing or text formatting, a \"Run\" object and a \"Paragraph\" object are typically associated with word processing software like Microsoft Word or libraries that work with document processing, such as the Python-docx library for Microsoft Word documents."
   ]
  },
  {
   "cell_type": "raw",
   "id": "c3fb3aa5-dca3-429b-947e-550b360e8911",
   "metadata": {},
   "source": [
    "7. How do you obtain a list of Paragraph objects for a Document object that’s stored in a variable\n",
    "named doc?\n",
    "\n",
    "# Assuming you have a Document object stored in a variable named 'doc'\n",
    "\n",
    "# Access the list of Paragraph objects in the Document\n",
    "paragraphs = doc.paragraphs\n",
    "\n",
    "# Iterate through the list of Paragraph objects\n",
    "for paragraph in paragraphs:\n",
    "    # Perform operations on each Paragraph object\n",
    "    print(paragraph.text)  # Example: Print the text of each paragraph"
   ]
  },
  {
   "cell_type": "raw",
   "id": "4e6c85ba-04d5-4bdc-80a2-f9c3cd1ffd89",
   "metadata": {},
   "source": [
    "8. What type of object has bold, underline, italic, strike, and outline variables?\n",
    "\n",
    "\n",
    "The type of object that typically has bold, underline, italic, strike, and outline variables is a Run object in the context of document processing libraries or word processing software."
   ]
  },
  {
   "cell_type": "raw",
   "id": "7044e50d-095b-47d5-bdbb-83694a92fbcf",
   "metadata": {},
   "source": [
    "9. What is the difference between False, True, and None for the bold variable?\n",
    "\n",
    "Setting the bold variable to False means that the text within the Run is not formatted as bold. The text appears with normal or regular weight.\n",
    "Setting the bold variable to True means that the text within the Run is formatted as bold. The text appears with a heavier or thicker weight.\n",
    "Using None for the bold variable typically means that the text should inherit the formatting from its parent style or from the surrounding text. In other words, it doesn't explicitly set the bold attribute. The text appears with whatever bold formatting is applied at the paragraph or style level."
   ]
  },
  {
   "cell_type": "raw",
   "id": "cf426166-f317-4a1f-b137-b0543b3e2b48",
   "metadata": {
    "tags": []
   },
   "source": [
    "10. How do you create a Document object for a new Word document?\n",
    "\n",
    "import docx\n",
    "\n",
    "# Create a new Document object\n",
    "doc = docx.Document()\n",
    "\n",
    "# Add content to the document\n",
    "doc.add_heading('My New Document', 0)  # Add a title\n",
    "doc.add_paragraph('This is a paragraph of text.')  # Add a paragraph\n",
    "doc.add_paragraph('This is another paragraph.')\n",
    "\n",
    "# Save the document to a file\n",
    "doc.save('new_document.docx')1r"
   ]
  },
  {
   "cell_type": "raw",
   "id": "c7490dbb-be09-48bd-be12-2ddb734d0526",
   "metadata": {},
   "source": [
    "11. How do you add a paragraph with the text 'Hello, there!' to a Document object stored in a\n",
    "variable named doc?\n",
    "\n",
    "import docx\n",
    "\n",
    "# Assuming you already have a Document object stored in a variable named 'doc'\n",
    "\n",
    "# Create a new paragraph and add it to the Document object\n",
    "new_paragraph = doc.add_paragraph('Hello, there!')\n",
    "\n",
    "# Save the Document object (if needed)\n",
    "# doc.save('your_document_filename.docx')"
   ]
  },
  {
   "cell_type": "raw",
   "id": "e4e53ceb-bf09-41d0-b18e-ba6efde8cfb8",
   "metadata": {},
   "source": [
    "12. What integers represent the levels of headings available in Word documents?\n",
    "\n",
    "Heading 1: Level 1 (integer: 0)\n",
    "Heading 2: Level 2 (integer: 1)\n",
    "Heading 3: Level 3 (integer: 2)\n",
    "Heading 4: Level 4 (integer: 3)\n",
    "Heading 5: Level 5 (integer: 4)\n",
    "Heading 6: Level 6 (integer: 5)"
   ]
  }
 ],
 "metadata": {
  "kernelspec": {
   "display_name": "Python 3 (ipykernel)",
   "language": "python",
   "name": "python3"
  },
  "language_info": {
   "codemirror_mode": {
    "name": "ipython",
    "version": 3
   },
   "file_extension": ".py",
   "mimetype": "text/x-python",
   "name": "python",
   "nbconvert_exporter": "python",
   "pygments_lexer": "ipython3",
   "version": "3.11.4"
  },
  "widgets": {
   "application/vnd.jupyter.widget-state+json": {
    "state": {},
    "version_major": 2,
    "version_minor": 0
   }
  }
 },
 "nbformat": 4,
 "nbformat_minor": 5
}
