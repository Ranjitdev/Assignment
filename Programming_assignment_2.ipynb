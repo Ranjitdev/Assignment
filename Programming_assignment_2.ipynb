{
 "cells": [
  {
   "cell_type": "raw",
   "id": "76ee1290-93f8-4943-8a8f-61f52b0d0b68",
   "metadata": {},
   "source": [
    "1. Write a Python program to convert kilometers to miles?"
   ]
  },
  {
   "cell_type": "code",
   "execution_count": 1,
   "id": "d298164d-7dc4-405b-bc48-eb29581569fe",
   "metadata": {
    "tags": []
   },
   "outputs": [
    {
     "data": {
      "text/plain": [
       "6.21371"
      ]
     },
     "execution_count": 1,
     "metadata": {},
     "output_type": "execute_result"
    }
   ],
   "source": [
    "def km_to_mile(a):\n",
    "    return a*0.621371\n",
    "km_to_mile(10)"
   ]
  },
  {
   "cell_type": "raw",
   "id": "909be1bf-5ceb-4fd7-ab92-ff61aab66c45",
   "metadata": {},
   "source": [
    "2. Write a Python program to convert Celsius to Fahrenheit?"
   ]
  },
  {
   "cell_type": "code",
   "execution_count": 2,
   "id": "fa22c398-e0b3-442e-b4e4-167ecd3e0455",
   "metadata": {
    "tags": []
   },
   "outputs": [
    {
     "data": {
      "text/plain": [
       "169.0"
      ]
     },
     "execution_count": 2,
     "metadata": {},
     "output_type": "execute_result"
    }
   ],
   "source": [
    "def cel_to_fer(a):\n",
    "    return a * ((9/5) + 32)\n",
    "cel_to_fer(5)"
   ]
  },
  {
   "cell_type": "raw",
   "id": "a48b20c1-5871-41f6-807c-60416639ae19",
   "metadata": {},
   "source": [
    "3. Write a Python program to display calendar?"
   ]
  },
  {
   "cell_type": "code",
   "execution_count": 9,
   "id": "35735e6a-a112-4fc0-b551-cb7d39ceef67",
   "metadata": {
    "tags": []
   },
   "outputs": [
    {
     "name": "stdout",
     "output_type": "stream",
     "text": [
      "    October 2023\n",
      "Su Mo Tu We Th Fr Sa\n",
      " 1  2  3  4  5  6  7\n",
      " 8  9 10 11 12 13 14\n",
      "15 16 17 18 19 20 21\n",
      "22 23 24 25 26 27 28\n",
      "29 30 31\n",
      "\n"
     ]
    }
   ],
   "source": [
    "import calendar\n",
    "print(calendar.TextCalendar(calendar.SUNDAY).formatmonth(2023, 10))"
   ]
  },
  {
   "cell_type": "raw",
   "id": "324614f1-3eff-42ad-be1e-4261a72654fb",
   "metadata": {},
   "source": [
    "4. Write a Python program to solve quadratic equation?"
   ]
  },
  {
   "cell_type": "code",
   "execution_count": 10,
   "id": "35106b41-db1e-4ed8-ab1d-c138783c3a8c",
   "metadata": {
    "tags": []
   },
   "outputs": [
    {
     "name": "stdin",
     "output_type": "stream",
     "text": [
      "Enter coefficient a:  5\n",
      "Enter coefficient b:  6\n",
      "Enter coefficient c:  7\n"
     ]
    },
    {
     "name": "stdout",
     "output_type": "stream",
     "text": [
      "The solutions are: x = (-0.6-1.0198039027185568j) and x = (-0.6+1.0198039027185568j)\n"
     ]
    }
   ],
   "source": [
    "import cmath\n",
    "\n",
    "def solve_quadratic(a, b, c):\n",
    "    discriminant = (b**2) - (4 * a * c)\n",
    "    solution1 = (-b - cmath.sqrt(discriminant)) / (2 * a)\n",
    "    solution2 = (-b + cmath.sqrt(discriminant)) / (2 * a)\n",
    "    return solution1, solution2\n",
    "\n",
    "a = float(input(\"Enter coefficient a: \"))\n",
    "b = float(input(\"Enter coefficient b: \"))\n",
    "c = float(input(\"Enter coefficient c: \"))\n",
    "\n",
    "result1, result2 = solve_quadratic(a, b, c)\n",
    "\n",
    "print(f\"The solutions are: x = {result1} and x = {result2}\")"
   ]
  },
  {
   "cell_type": "raw",
   "id": "7bb367f8-c3b0-43d6-922a-f10f52db2ae9",
   "metadata": {},
   "source": [
    "5. Write a Python program to swap two variables without temp variable?"
   ]
  },
  {
   "cell_type": "code",
   "execution_count": 11,
   "id": "4bde66a3-74fd-45c3-961c-a04d08b42f9e",
   "metadata": {
    "tags": []
   },
   "outputs": [
    {
     "data": {
      "text/plain": [
       "(5, 10)"
      ]
     },
     "execution_count": 11,
     "metadata": {},
     "output_type": "execute_result"
    }
   ],
   "source": [
    "def swap(a, b):\n",
    "    a, b = b, a\n",
    "    return a, b\n",
    "swap(10, 5)"
   ]
  },
  {
   "cell_type": "code",
   "execution_count": null,
   "id": "7e16f070-e6a7-404d-a3f6-3fff1c07489c",
   "metadata": {},
   "outputs": [],
   "source": []
  }
 ],
 "metadata": {
  "kernelspec": {
   "display_name": "Python 3 (ipykernel)",
   "language": "python",
   "name": "python3"
  },
  "language_info": {
   "codemirror_mode": {
    "name": "ipython",
    "version": 3
   },
   "file_extension": ".py",
   "mimetype": "text/x-python",
   "name": "python",
   "nbconvert_exporter": "python",
   "pygments_lexer": "ipython3",
   "version": "3.11.4"
  },
  "widgets": {
   "application/vnd.jupyter.widget-state+json": {
    "state": {},
    "version_major": 2,
    "version_minor": 0
   }
  }
 },
 "nbformat": 4,
 "nbformat_minor": 5
}
