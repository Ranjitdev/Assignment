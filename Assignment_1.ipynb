{
 "cells": [
  {
   "cell_type": "raw",
   "id": "41c32dc2",
   "metadata": {},
   "source": [
    "1. In the below elements which of them are values or an expression? eg:- values can be integer or string and expressions will be mathematical operators.\n",
    "*\n",
    "&#39;hello&#39;\n",
    "-87.8\n",
    "-\n",
    "/\n",
    "+\n",
    "6\n",
    "\n",
    "values:-\n",
    "    hello is string value\n",
    "    -87.8 is float value\n",
    "    6 is int value\n",
    "expressions:-\n",
    "    * multiplication operator\n",
    "    - substraction operator\n",
    "    + addition operator\n",
    "    / division operator"
   ]
  },
  {
   "cell_type": "raw",
   "id": "7ad878bd",
   "metadata": {},
   "source": [
    "2. What is the difference between string and variable?\n",
    "\n",
    "String is a data type used to represent sequence of characters. it can contain numbers letters as text format.\n",
    "variable is a container for holding different types of data. it is a symbolic name when a value stored in computer memory. it can contain int, char, string and can be changed during program run."
   ]
  },
  {
   "cell_type": "raw",
   "id": "37495dae",
   "metadata": {},
   "source": [
    "3. Describe three different data types.\n",
    "\n",
    "int - it contains only whole number without any fractional part.\n",
    "float - it contains the numbers having fractional part\n",
    "string - it contains sequence of characters"
   ]
  },
  {
   "cell_type": "raw",
   "id": "6c3d2a42",
   "metadata": {},
   "source": [
    "4. What is an expression made up of? What do all expressions do?\n",
    "\n",
    "Expression is combination of values and operators."
   ]
  },
  {
   "cell_type": "raw",
   "id": "de8e9f1b",
   "metadata": {},
   "source": [
    "5. This assignment statements, like spam = 10. What is the difference between an\n",
    "expression and a statement?\n",
    "\n",
    "assignment is assigning a value into a variable it can be float, int, string\n",
    "expression is doing a specific work using an operator"
   ]
  },
  {
   "cell_type": "raw",
   "id": "bf2862d3",
   "metadata": {},
   "source": [
    "6. After running the following code, what does the variable bacon contain?\n",
    "bacon = 22\n",
    "bacon + 1\n",
    "\n",
    "now bacon contain 23"
   ]
  },
  {
   "cell_type": "raw",
   "id": "5283d5a8",
   "metadata": {},
   "source": [
    "7. What should the values of the following two terms be?\n",
    "&#39;spam&#39; + &#39;spamspam&#39;\n",
    "&#39;spam&#39; * 3\n",
    "\n",
    "in both it should be spamspamspam"
   ]
  },
  {
   "cell_type": "raw",
   "id": "c5f7f0cf",
   "metadata": {},
   "source": [
    "8. Why is eggs a valid variable name while 100 is invalid?\n",
    "\n",
    "in programming the variable name should be letters, 100 is numeric so it cant be variable name1"
   ]
  },
  {
   "cell_type": "raw",
   "id": "acbe207f",
   "metadata": {},
   "source": [
    "9. What three functions can be used to get the integer, floating-point number, or string\n",
    "version of a value?\n",
    "\n",
    "int()\n",
    "float()\n",
    "str()"
   ]
  },
  {
   "cell_type": "raw",
   "id": "b55b5bba",
   "metadata": {},
   "source": [
    "10. Why does this expression cause an error? How can you fix it?\n",
    "&#39;I have eaten &#39; + 99 + &#39; burritos.&#39;\n",
    "\n",
    "Beacuse here we are trying to add i have eaten with a int 99 it is not possible to concatenate string with int"
   ]
  }
 ],
 "metadata": {
  "kernelspec": {
   "display_name": "Python 3 (ipykernel)",
   "language": "python",
   "name": "python3"
  },
  "language_info": {
   "codemirror_mode": {
    "name": "ipython",
    "version": 3
   },
   "file_extension": ".py",
   "mimetype": "text/x-python",
   "name": "python",
   "nbconvert_exporter": "python",
   "pygments_lexer": "ipython3",
   "version": "3.11.3"
  }
 },
 "nbformat": 4,
 "nbformat_minor": 5
}
