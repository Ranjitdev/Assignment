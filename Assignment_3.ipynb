{
 "cells": [
  {
   "cell_type": "raw",
   "id": "a20b070d",
   "metadata": {},
   "source": [
    "1. Why are functions advantageous to have in your programs?\n",
    "\n",
    "Modularity, Reusability, Readability, Maintainability, Code Organization"
   ]
  },
  {
   "cell_type": "raw",
   "id": "ac86c846",
   "metadata": {},
   "source": [
    "2. When does the code in a function run: when its specified or when its called?\n",
    "    \n",
    "The code in a function runs when the function is called, not when it is specified (defined). Defining a function merely creates a blueprint or a set of instructions that specify what the function should do when it is later invoked."
   ]
  },
  {
   "cell_type": "raw",
   "id": "e15d8d1e",
   "metadata": {},
   "source": [
    "3. What statement creates a function?\n",
    "\n",
    "def function_name"
   ]
  },
  {
   "cell_type": "raw",
   "id": "5c422fcb",
   "metadata": {},
   "source": [
    "4. What is the difference between a function and a function call?\n",
    "\n",
    "A function is a block of code that performs a specific task or a set of related tasks. \n",
    "A function call is the act of invoking or executing a specific function with a set of arguments."
   ]
  },
  {
   "cell_type": "raw",
   "id": "61dd5cd0",
   "metadata": {},
   "source": [
    "5. How many global scopes are there in a Python program? How many local scopes?\n",
    "\n",
    "In a Python program, there is typically one global scope and multiple local scopes."
   ]
  },
  {
   "cell_type": "raw",
   "id": "dcc956fd",
   "metadata": {},
   "source": [
    "6. What happens to variables in a local scope when the function call returns?\n",
    "\n",
    "When a function call returns in Python, the local scope associated with that function is destroyed, and the variables defined within that local scope are no longer accessible."
   ]
  },
  {
   "cell_type": "raw",
   "id": "61420c5a",
   "metadata": {},
   "source": [
    "7. What is the concept of a return value? Is it possible to have a return value in an expression?\n",
    "\n",
    "The concept of a return value in programming refers to the value that a function provides as its output when it is called. When a function is executed, it can perform operations, calculations, or manipulations, and then it can send back a value to the caller using the return statement.\n",
    "Regarding the possibility of having a return value in an expression, yes, it is possible. You can use the return value of a function directly within an expression."
   ]
  },
  {
   "cell_type": "raw",
   "id": "72195567",
   "metadata": {},
   "source": [
    "8. If a function does not have a return statement, what is the return value of a call to that function?\n",
    "\n",
    "None"
   ]
  },
  {
   "cell_type": "raw",
   "id": "dfb0994d",
   "metadata": {},
   "source": [
    "9. How do you make a function variable refer to the global variable?\n",
    "\n",
    "global keyword makes the variable global"
   ]
  },
  {
   "cell_type": "raw",
   "id": "bccef396",
   "metadata": {},
   "source": [
    "10. What is the data type of None?\n",
    "\n",
    "null value or none type"
   ]
  },
  {
   "cell_type": "raw",
   "id": "0f9845b2",
   "metadata": {},
   "source": [
    "11. What does the sentence import areallyourpetsnamederic do?\n",
    "\n",
    "it imports the external module areallyourpetsnamederic"
   ]
  },
  {
   "cell_type": "raw",
   "id": "dd3a063a",
   "metadata": {},
   "source": [
    "12. If you had a bacon() feature in a spam module, what would you call it after importing spam?\n",
    "\n",
    "import spam\n",
    "spam.bacon()"
   ]
  },
  {
   "cell_type": "raw",
   "id": "3ce55025",
   "metadata": {},
   "source": [
    "13. What can you do to save a programme from crashing if it encounters an error?\n",
    "\n",
    "try:\n",
    "    #code block\n",
    "except:\n",
    "    pass"
   ]
  },
  {
   "cell_type": "raw",
   "id": "6cf7d7b7",
   "metadata": {},
   "source": [
    "14. What is the purpose of the try clause? What is the purpose of the except clause?\n",
    "\n",
    "The try clause is used to enclose the code that might raise an exception.\n",
    "The except clause is used to specify how to handle a particular type of exception that occurs within the associated try block. If an exception occurs in the try block, the program doesn't crash"
   ]
  }
 ],
 "metadata": {
  "kernelspec": {
   "display_name": "Python 3 (ipykernel)",
   "language": "python",
   "name": "python3"
  },
  "language_info": {
   "codemirror_mode": {
    "name": "ipython",
    "version": 3
   },
   "file_extension": ".py",
   "mimetype": "text/x-python",
   "name": "python",
   "nbconvert_exporter": "python",
   "pygments_lexer": "ipython3",
   "version": "3.11.3"
  }
 },
 "nbformat": 4,
 "nbformat_minor": 5
}
