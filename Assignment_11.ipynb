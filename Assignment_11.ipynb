{
 "cells": [
  {
   "cell_type": "raw",
   "id": "8f6c4744-4abb-4f24-bc0e-1f580556c5d0",
   "metadata": {},
   "source": [
    "1. Create an assert statement that throws an AssertionError if the variable spam is a negative\n",
    "integer.\n",
    "\n",
    "assert spam >= 0, \"spam should not be a negative integer\""
   ]
  },
  {
   "cell_type": "raw",
   "id": "7ddc3f3a-8112-4faf-b4f7-50ccc6ebafe1",
   "metadata": {},
   "source": [
    "2. Write an assert statement that triggers an AssertionError if the variables eggs and bacon contain\n",
    "strings that are the same as each other, even if their cases are different (that is, 'hello' and 'hello' are\n",
    "considered the same, and 'goodbye' and 'GOODbye' are also considered the same).\n",
    "                                                                            \n",
    "assert eggs.lower() != bacon.lower(), \"eggs and bacon strings should not be the same, ignoring case\"               "
   ]
  },
  {
   "cell_type": "raw",
   "id": "fa503141-1b3c-44e1-ae21-dff221f89255",
   "metadata": {},
   "source": [
    "3. Create an assert statement that throws an AssertionError every time.\n",
    "\n",
    "assert False, \"This assert statement always raises an AssertionError\""
   ]
  },
  {
   "cell_type": "raw",
   "id": "ecf8f876-f2e9-489e-9c63-88839bde0f8d",
   "metadata": {},
   "source": [
    "4. What are the two lines that must be present in your software in order to call logging.debug()?\n",
    "\n",
    "import logging\n",
    "logging.basicConfig(level=logging.DEBUG)"
   ]
  },
  {
   "cell_type": "raw",
   "id": "6d12e809-e3a4-46a3-9de5-609484f82b61",
   "metadata": {},
   "source": [
    "5. What are the two lines that your program must have in order to have logging.debug() send a\n",
    "logging message to a file named programLog.txt?\n",
    "\n",
    "import logging\n",
    "\n",
    "logging.basicConfig(filename='programLog.txt', level=logging.DEBUG)"
   ]
  },
  {
   "cell_type": "raw",
   "id": "50ded306-1ad5-42bc-9e0f-6d7052fe08e5",
   "metadata": {},
   "source": [
    "6. What are the five levels of logging?\n",
    "\n",
    "debug, info, warning, error, critical"
   ]
  },
  {
   "cell_type": "raw",
   "id": "bfde3882-9143-4fa2-a299-a78f7ec9b795",
   "metadata": {},
   "source": [
    "7. What line of code would you add to your software to disable all logging messages?\n",
    "\n",
    "import logging\n",
    "\n",
    "logging.disable(logging.CRITICAL)"
   ]
  },
  {
   "cell_type": "raw",
   "id": "3d739f74-0c78-4b21-907c-ea25c399de08",
   "metadata": {},
   "source": [
    "8.Why is using logging messages better than using print() to display the same message?\n",
    "\n",
    "Scalability and Production Use, Testing and Mocking, Log Rotation and Retention"
   ]
  },
  {
   "cell_type": "raw",
   "id": "565f0604-efac-4a00-b2cf-beb29bbf3369",
   "metadata": {},
   "source": [
    "9. What are the differences between the Step Over, Step In, and Step Out buttons in the debugger?\n",
    "\n",
    "When you click the \"Step Over\" button or use the associated keyboard shortcut (often F10 or similar), the debugger executes the current line of code and advances to the next line in the current function.\n",
    "Clicking \"Step In\" or using the appropriate keyboard shortcut (usually F11 or a similar key) allows you to enter a function and continue debugging within that function.\n",
    "\"Step Out\" allows you to exit the current function and return to the calling function."
   ]
  },
  {
   "cell_type": "raw",
   "id": "75c0db44-f60a-4a55-a54a-0dcee1edce74",
   "metadata": {},
   "source": [
    "10.After you click Continue, when will the debugger stop ?\n",
    "\n",
    "When you click the \"Continue\" button in a debugger, the debugger will continue executing your program without interruption until one of the following events occurs:\n",
    "    A breakpoint is encountered, An unhandled exception or error occurs"
   ]
  },
  {
   "cell_type": "raw",
   "id": "c592de9a-6481-41ad-b7a5-843e5f316a04",
   "metadata": {},
   "source": [
    "11. What is the concept of a breakpoint?\n",
    "\n",
    "A breakpoint is a debugging feature in programming that allows you to pause the execution of a program at a specific point in the code."
   ]
  }
 ],
 "metadata": {
  "kernelspec": {
   "display_name": "Python 3 (ipykernel)",
   "language": "python",
   "name": "python3"
  },
  "language_info": {
   "codemirror_mode": {
    "name": "ipython",
    "version": 3
   },
   "file_extension": ".py",
   "mimetype": "text/x-python",
   "name": "python",
   "nbconvert_exporter": "python",
   "pygments_lexer": "ipython3",
   "version": "3.11.4"
  },
  "widgets": {
   "application/vnd.jupyter.widget-state+json": {
    "state": {},
    "version_major": 2,
    "version_minor": 0
   }
  }
 },
 "nbformat": 4,
 "nbformat_minor": 5
}
