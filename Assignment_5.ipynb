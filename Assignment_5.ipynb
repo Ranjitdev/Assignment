{
 "cells": [
  {
   "cell_type": "raw",
   "id": "259e9111-d6f4-4d0f-a874-dfb998eb2b6c",
   "metadata": {},
   "source": [
    "What does an empty dictionarys code look like?\n",
    "\n",
    "dictionary = {}"
   ]
  },
  {
   "cell_type": "raw",
   "id": "7a92efda-7617-4ce8-b89b-c9774f8421b9",
   "metadata": {},
   "source": [
    "2. What is the value of a dictionary value with the key 'foo' and the value 42?\n",
    "\n",
    "dictionary = {'foo': 42}"
   ]
  },
  {
   "cell_type": "raw",
   "id": "065a77a4-fe03-4b60-9535-2531cb712153",
   "metadata": {},
   "source": [
    "3. What is the most significant distinction between a dictionary and a list?\n",
    "\n",
    "Dictionary created with some key value pairs and list created with some ordered variables or elements.\n",
    "List values can be accessible with its index position on the other hand dictionary vales can be accessible with its key.\n",
    "List can contain duplicate element where dictionary keys must be unique."
   ]
  },
  {
   "cell_type": "raw",
   "id": "13c83231-864f-4e77-87f4-002c4209020f",
   "metadata": {},
   "source": [
    "4. What happens if you try to access spam['foo'] if spam is {'bar': 100}?\n",
    "\n",
    "Key error"
   ]
  },
  {
   "cell_type": "raw",
   "id": "6ec03bcf-40d5-4445-bdc5-28768d6d8bcd",
   "metadata": {},
   "source": [
    "5. If a dictionary is stored in spam, what is the difference between the expressions 'cat' in spam and\n",
    "'cat' in spam.keys()?\n",
    "\n",
    "They are same"
   ]
  },
  {
   "cell_type": "raw",
   "id": "88f8200e-3dad-402f-a7ae-a4722f3c7708",
   "metadata": {},
   "source": [
    "6. If a dictionary is stored in spam, what is the difference between the expressions 'cat' in spam and\n",
    "'cat' in spam.values()?\n",
    "\n",
    "'cat' in spam means if 'cat' in keys and in other hand 'cat' in spam values"
   ]
  },
  {
   "cell_type": "raw",
   "id": "e0b7af8a-c18d-4331-804e-4c8605273566",
   "metadata": {},
   "source": [
    "7. What is a shortcut for the following code?\n",
    "if 'color' not in spam:\n",
    "spam['color'] = 'black';\n",
    "\n",
    "spam.setdeafult('color': 'black')"
   ]
  },
  {
   "cell_type": "raw",
   "id": "13b02598-8a4c-4e2f-9c31-56bd2b70ed00",
   "metadata": {},
   "source": [
    "8. How do you pretty print dictionary values using which module and function?\n",
    "\n",
    "import pprint\n",
    "pprint(dictionary)"
   ]
  }
 ],
 "metadata": {
  "kernelspec": {
   "display_name": "Python 3 (ipykernel)",
   "language": "python",
   "name": "python3"
  },
  "language_info": {
   "codemirror_mode": {
    "name": "ipython",
    "version": 3
   },
   "file_extension": ".py",
   "mimetype": "text/x-python",
   "name": "python",
   "nbconvert_exporter": "python",
   "pygments_lexer": "ipython3",
   "version": "3.11.4"
  },
  "widgets": {
   "application/vnd.jupyter.widget-state+json": {
    "state": {},
    "version_major": 2,
    "version_minor": 0
   }
  }
 },
 "nbformat": 4,
 "nbformat_minor": 5
}
